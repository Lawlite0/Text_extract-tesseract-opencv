{
 "cells": [
  {
   "cell_type": "code",
   "execution_count": 77,
   "metadata": {},
   "outputs": [
    {
     "data": {
      "text/html": [
       "<img src='images/main_testopencv.png', height = '600', width = '400' style=\"float: left\">\n",
       "<img src='images/test_1opencv.png', height = '700', width = '400'  style=\"float: right\">\n"
      ],
      "text/plain": [
       "<IPython.core.display.HTML object>"
      ]
     },
     "metadata": {},
     "output_type": "display_data"
    }
   ],
   "source": [
    "%%html\n",
    "<img src='images/main_testopencv.png', height = '600', width = '400' style=\"float: left\">\n",
    "<img src='images/test_1opencv.png', height = '700', width = '400'  style=\"float: right\">"
   ]
  },
  {
   "cell_type": "code",
   "execution_count": 53,
   "metadata": {},
   "outputs": [
    {
     "name": "stdout",
     "output_type": "stream",
     "text": [
      "B.E Project Groups 2019-20\n",
      "\n",
      " \n",
      "\n",
      "* Required\n",
      "\n",
      "Email address *\n",
      "\n",
      "Your email\n",
      "\n",
      "Project Group member 1: Student's Name *\n",
      "\n",
      "Your answer\n",
      "\n",
      "Project Group member 1 :Domain and Topic *\n",
      "\n",
      "Your answer\n",
      "\n",
      "Project Group member 2 : Student's Name *\n",
      "\n",
      "Your answer\n",
      "['B.E Project Groups 2019-20', '', ' ', '', '* Required', '', 'Email address *', '', 'Your email', '', \"Project Group member 1: Student's Name *\", '', 'Your answer', '', 'Project Group member 1 :Domain and Topic *', '', 'Your answer', '', \"Project Group member 2 : Student's Name *\", '', 'Your answer']\n",
      "B.E Project Groups 2019-20\n",
      "\n",
      "* Required\n",
      "\n",
      " \n",
      "\n",
      "Email address *\n",
      "\n",
      "kunal@abe.com\n",
      "\n",
      "Project Group member 1: Student's Name *\n",
      "\n",
      "kunal\n",
      "\n",
      "Project Group member 1 :Domain and Topic *\n",
      "\n",
      "machine learning\n",
      "\n",
      "Project Group member 2 : Student's Name *\n",
      "\n",
      "Ajit\n",
      "['B.E Project Groups 2019-20', '', '* Required', '', ' ', '', 'Email address *', '', 'kunal@abe.com', '', \"Project Group member 1: Student's Name *\", '', 'kunal', '', 'Project Group member 1 :Domain and Topic *', '', 'machine learning', '', \"Project Group member 2 : Student's Name *\", '', 'Ajit']\n"
     ]
    },
    {
     "data": {
      "text/plain": [
       "['Ajit', 'kunal@abe.com', 'machine learning', 'kunal']"
      ]
     },
     "execution_count": 53,
     "metadata": {},
     "output_type": "execute_result"
    }
   ],
   "source": [
    "from PIL import Image\n",
    "from pytesseract import image_to_string\n",
    "import re\n",
    "#path for tesseract\n",
    "pytesseract.pytesseract.tesseract_cmd = 'C:/Program Files/Tesseract-OCR/tesseract.exe'\n",
    "#master image (original) to text and then list\n",
    "master = Image.open('images/main_testopencv.png')\n",
    "master_text = image_to_string(master)\n",
    "print(master_text)\n",
    "master_text = master_text.split('\\n')\n",
    "print(master_text)\n",
    "#test image\n",
    "test_text = image_to_string(Image.open('images/test_1opencv.png'))\n",
    "print(test_text)\n",
    "test_text = test_text.split('\\n')\n",
    "print(test_text)\n",
    "\n",
    "#Difference\n",
    "def Diff(li1, li2): \n",
    "    return (list(set(li2) - set(li1)))\n",
    "\n",
    "diff = Diff(master_text, test_text)\n",
    "diff"
   ]
  },
  {
   "cell_type": "code",
   "execution_count": 55,
   "metadata": {},
   "outputs": [
    {
     "name": "stdout",
     "output_type": "stream",
     "text": [
      "['B.E Project Groups 2019-20', '', ' ', '', '* Required', '', 'Email address *', '', 'Your email', '', \"Project Group member 1: Student's Name *\", '', 'Your answer', '', 'Project Group member 1 :Domain and Topic *', '', 'Your answer', '', \"Project Group member 2 : Student's Name *\", '', 'Your answer']\n"
     ]
    }
   ],
   "source": [
    "# import cv2\n",
    "# import numpy as np\n",
    "# import pytesseract\n",
    "# from PIL import Image\n",
    "\n",
    "# pytesseract.pytesseract.tesseract_cmd = 'C:/Program Files/Tesseract-OCR/tesseract.exe'\n",
    "# # Path of working folder on Disk\n",
    "# src_path = 'C:/Users/lenovo/ExTextOpencv/images/'\n",
    "\n",
    "# def get_string(img_path):\n",
    "#     # Read image with opencv\n",
    "#     img = cv2.imread(img_path)\n",
    "# #     Recognize text with tesseract for python\n",
    "#     result = pytesseract.image_to_string(Image.open(img_path))\n",
    "#     return result\n",
    "\n",
    "# x = get_string(src_path + \"/main_testopencv.png\")\n",
    "# x\n",
    "# print(x.split('\\n'))"
   ]
  },
  {
   "cell_type": "code",
   "execution_count": null,
   "metadata": {},
   "outputs": [],
   "source": [
    "  # noise removal tech\n",
    "#     # Convert to gray\n",
    "#     img = cv2.cvtColor(img, cv2.COLOR_BGR2GRAY)\n",
    "\n",
    "#     # Apply dilation and erosion to remove some noise\n",
    "#     kernel = np.ones((1, 1), np.uint8)\n",
    "#     img = cv2.dilate(img, kernel, iterations=1)\n",
    "#     img = cv2.erode(img, kernel, iterations=1)\n",
    "\n",
    "#     # Write image after removed noise\n",
    "#     cv2.imwrite(src_path + \"removed_noise.png\", img)\n",
    "\n",
    "#      Apply threshold to get image with only black and white\n",
    "#     img = cv2.adaptiveThreshold(img, 255, cv2.ADAPTIVE_THRESH_GAUSSIAN_C, cv2.THRESH_BINARY, 31, 2)\n",
    "\n",
    "#     # Write the image after apply opencv to do some ...\n",
    "#     cv2.imwrite(src_path + \"thres.png\", img)\n",
    "    # Remove template file\n",
    "    #os.remove(temp)\n"
   ]
  }
 ],
 "metadata": {
  "kernelspec": {
   "display_name": "Python 3",
   "language": "python",
   "name": "python3"
  },
  "language_info": {
   "codemirror_mode": {
    "name": "ipython",
    "version": 3
   },
   "file_extension": ".py",
   "mimetype": "text/x-python",
   "name": "python",
   "nbconvert_exporter": "python",
   "pygments_lexer": "ipython3",
   "version": "3.7.3"
  }
 },
 "nbformat": 4,
 "nbformat_minor": 2
}
